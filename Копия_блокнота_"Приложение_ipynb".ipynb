{
  "nbformat": 4,
  "nbformat_minor": 0,
  "metadata": {
    "colab": {
      "provenance": [],
      "include_colab_link": true
    },
    "kernelspec": {
      "name": "python3",
      "display_name": "Python 3"
    },
    "language_info": {
      "name": "python"
    }
  },
  "cells": [
    {
      "cell_type": "markdown",
      "metadata": {
        "id": "view-in-github",
        "colab_type": "text"
      },
      "source": [
        "<a href=\"https://colab.research.google.com/github/Medveks/DATA_SCIENCE_WORKS/blob/main/%D0%9A%D0%BE%D0%BF%D0%B8%D1%8F_%D0%B1%D0%BB%D0%BE%D0%BA%D0%BD%D0%BE%D1%82%D0%B0_%22%D0%9F%D1%80%D0%B8%D0%BB%D0%BE%D0%B6%D0%B5%D0%BD%D0%B8%D0%B5_ipynb%22.ipynb\" target=\"_parent\"><img src=\"https://colab.research.google.com/assets/colab-badge.svg\" alt=\"Open In Colab\"/></a>"
      ]
    },
    {
      "cell_type": "code",
      "metadata": {
        "id": "zLSyjmLOqi9E"
      },
      "source": [
        "#datasets\n",
        "import sklearn\n",
        "#from sklearn.datasets import "
      ],
      "execution_count": null,
      "outputs": []
    },
    {
      "cell_type": "code",
      "metadata": {
        "id": "AjXNp4Y-tFJb"
      },
      "source": [
        "X, y = sklearn.datasets.make_regression(n_samples=200, n_features=5, n_informative=10, n_targets=1, \n",
        "                                 bias=0.0, effective_rank=None, \n",
        "                                 tail_strength=0.5, noise=0.0, shuffle=True, coef=False, random_state=None)"
      ],
      "execution_count": null,
      "outputs": []
    },
    {
      "cell_type": "code",
      "metadata": {
        "id": "rNjFkY6RtV_2"
      },
      "source": [
        "X, y = sklearn.datasets.make_gaussian_quantiles(mean=(1,3,2), n_samples=200, n_features=3, \n",
        "                                                n_classes=3, shuffle=True, random_state=None)"
      ],
      "execution_count": null,
      "outputs": []
    },
    {
      "cell_type": "code",
      "metadata": {
        "colab": {
          "base_uri": "https://localhost:8080/"
        },
        "id": "o9aqVloFtoeO",
        "outputId": "d8b14a1f-95c2-4053-c3f4-b92aa5f7825a"
      },
      "source": [
        "X[:10]"
      ],
      "execution_count": null,
      "outputs": [
        {
          "output_type": "execute_result",
          "data": {
            "text/plain": [
              "array([[0.96073434, 3.09754367, 1.77600329],\n",
              "       [2.59045423, 3.15088622, 2.05256972],\n",
              "       [0.70764496, 3.72486462, 2.69722611],\n",
              "       [2.15131257, 3.76419838, 1.00710193],\n",
              "       [1.3801384 , 4.52819393, 2.66935609],\n",
              "       [2.00296605, 4.73669025, 2.39555312],\n",
              "       [0.6788709 , 1.09095242, 2.27794132],\n",
              "       [1.01289471, 5.12391304, 3.4293331 ],\n",
              "       [2.49203255, 3.98741794, 1.04639281],\n",
              "       [1.40731035, 2.37958451, 2.04773236]])"
            ]
          },
          "metadata": {},
          "execution_count": 12
        }
      ]
    },
    {
      "cell_type": "code",
      "metadata": {
        "colab": {
          "base_uri": "https://localhost:8080/"
        },
        "id": "MwUQpuoXtq7N",
        "outputId": "9d1e8eaa-a379-4634-f255-111810854e7c"
      },
      "source": [
        "y[:10]"
      ],
      "execution_count": null,
      "outputs": [
        {
          "output_type": "execute_result",
          "data": {
            "text/plain": [
              "array([0, 1, 0, 1, 1, 2, 2, 2, 2, 0])"
            ]
          },
          "metadata": {},
          "execution_count": 14
        }
      ]
    }
  ]
}